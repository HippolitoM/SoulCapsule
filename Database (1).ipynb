{
 "cells": [
  {
   "cell_type": "code",
   "execution_count": 103,
   "metadata": {},
   "outputs": [],
   "source": [
    "import pandas as pd\n",
    "import numpy as np"
   ]
  },
  {
   "cell_type": "code",
   "execution_count": 124,
   "metadata": {},
   "outputs": [],
   "source": [
    "produits=[\"espresso\",\"americano\",\"double_espresso\"]\n",
    "carac_prod={} #prix, emplacement, calories\n",
    "carac_prod['espresso']=[1,\"haut\",100]\n",
    "carac_prod['americano']=[2,\"milieu\",350]\n",
    "carac_prod['double_espresso']=[1.7,\"bas\",200]\n",
    "\n",
    "taille=10000\n"
   ]
  },
  {
   "cell_type": "code",
   "execution_count": 125,
   "metadata": {},
   "outputs": [],
   "source": [
    "ventes_matin={}\n",
    "ventes_matin['produit']=[produits[np.random.randint(0,3)] for i in range (1,taille)]\n",
    "def indications(nom, pos):\n",
    "    ventes_matin[nom]=[carac_prod[ventes_matin['produit'][i]][pos] for i in range (len(ventes_matin['produit']))]\n",
    "\n",
    "indications('prix',0)\n",
    "#indications('emplacement',1)\n",
    "indications('calories',2)\n",
    "\n",
    "ventes_matin['affluence']=[int(np.random.exponential(5))+1 for i in range (1,taille)]"
   ]
  },
  {
   "cell_type": "code",
   "execution_count": 126,
   "metadata": {},
   "outputs": [
    {
     "data": {
      "text/html": [
       "<div>\n",
       "<style scoped>\n",
       "    .dataframe tbody tr th:only-of-type {\n",
       "        vertical-align: middle;\n",
       "    }\n",
       "\n",
       "    .dataframe tbody tr th {\n",
       "        vertical-align: top;\n",
       "    }\n",
       "\n",
       "    .dataframe thead th {\n",
       "        text-align: right;\n",
       "    }\n",
       "</style>\n",
       "<table border=\"1\" class=\"dataframe\">\n",
       "  <thead>\n",
       "    <tr style=\"text-align: right;\">\n",
       "      <th></th>\n",
       "      <th>produit</th>\n",
       "      <th>prix</th>\n",
       "      <th>calories</th>\n",
       "      <th>affluence</th>\n",
       "    </tr>\n",
       "  </thead>\n",
       "  <tbody>\n",
       "    <tr>\n",
       "      <th>0</th>\n",
       "      <td>double_espresso</td>\n",
       "      <td>1.7</td>\n",
       "      <td>200</td>\n",
       "      <td>1</td>\n",
       "    </tr>\n",
       "    <tr>\n",
       "      <th>1</th>\n",
       "      <td>espresso</td>\n",
       "      <td>1.0</td>\n",
       "      <td>100</td>\n",
       "      <td>5</td>\n",
       "    </tr>\n",
       "    <tr>\n",
       "      <th>2</th>\n",
       "      <td>americano</td>\n",
       "      <td>2.0</td>\n",
       "      <td>350</td>\n",
       "      <td>5</td>\n",
       "    </tr>\n",
       "    <tr>\n",
       "      <th>3</th>\n",
       "      <td>americano</td>\n",
       "      <td>2.0</td>\n",
       "      <td>350</td>\n",
       "      <td>3</td>\n",
       "    </tr>\n",
       "    <tr>\n",
       "      <th>4</th>\n",
       "      <td>americano</td>\n",
       "      <td>2.0</td>\n",
       "      <td>350</td>\n",
       "      <td>21</td>\n",
       "    </tr>\n",
       "  </tbody>\n",
       "</table>\n",
       "</div>"
      ],
      "text/plain": [
       "           produit  prix  calories  affluence\n",
       "0  double_espresso   1.7       200          1\n",
       "1         espresso   1.0       100          5\n",
       "2        americano   2.0       350          5\n",
       "3        americano   2.0       350          3\n",
       "4        americano   2.0       350         21"
      ]
     },
     "execution_count": 126,
     "metadata": {},
     "output_type": "execute_result"
    }
   ],
   "source": [
    "db=pd.DataFrame(ventes_matin)\n",
    "db.head()"
   ]
  },
  {
   "cell_type": "code",
   "execution_count": 137,
   "metadata": {},
   "outputs": [],
   "source": [
    "db['produit'].value_counts()\n",
    "dba=db.loc[db.produit==\"americano\"]\n",
    "dba_bis=dba[dba.columns[1:]]"
   ]
  }
 ],
 "metadata": {
  "kernelspec": {
   "display_name": "Python 3",
   "language": "python",
   "name": "python3"
  },
  "language_info": {
   "codemirror_mode": {
    "name": "ipython",
    "version": 3
   },
   "file_extension": ".py",
   "mimetype": "text/x-python",
   "name": "python",
   "nbconvert_exporter": "python",
   "pygments_lexer": "ipython3",
   "version": "3.7.0"
  }
 },
 "nbformat": 4,
 "nbformat_minor": 2
}
