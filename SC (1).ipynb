{
 "cells": [
  {
   "cell_type": "code",
   "execution_count": 1,
   "metadata": {},
   "outputs": [],
   "source": [
    "import os\n",
    "import pandas as pd\n",
    "import sklearn\n",
    "from sklearn import preprocessing\n",
    "import numpy as np"
   ]
  },
  {
   "cell_type": "code",
   "execution_count": 2,
   "metadata": {},
   "outputs": [],
   "source": [
    "os.chdir('/Users/theophile/Desktop/ECP/Machine Learning/Sales Prediction/')"
   ]
  },
  {
   "cell_type": "code",
   "execution_count": 3,
   "metadata": {},
   "outputs": [],
   "source": [
    "train=pd.read_csv('sales_train.csv')\n",
    "items=pd.read_csv('items.csv')\n",
    "item_cat=pd.read_csv('item_categories.csv')\n",
    "shops=pd.read_csv('shops.csv')"
   ]
  },
  {
   "cell_type": "code",
   "execution_count": 4,
   "metadata": {},
   "outputs": [],
   "source": [
    "#Caractéristiques du dataframe\n",
    "def car(db):\n",
    "    L=dict()\n",
    "    for c in db.columns:\n",
    "        df=db[c]\n",
    "        L[c]=[len(df)-df.count(),df.min(),df.max()]\n",
    "    return(L)"
   ]
  },
  {
   "cell_type": "markdown",
   "metadata": {},
   "source": [
    "#### Mise en forme des données\n",
    "Les infos utiles sont : date, boutique, article, catégorie, prix.<br>\n",
    "L'objectif est de prédire les ventes mensuelles."
   ]
  },
  {
   "cell_type": "code",
   "execution_count": 5,
   "metadata": {},
   "outputs": [
    {
     "data": {
      "text/html": [
       "<div>\n",
       "<style scoped>\n",
       "    .dataframe tbody tr th:only-of-type {\n",
       "        vertical-align: middle;\n",
       "    }\n",
       "\n",
       "    .dataframe tbody tr th {\n",
       "        vertical-align: top;\n",
       "    }\n",
       "\n",
       "    .dataframe thead th {\n",
       "        text-align: right;\n",
       "    }\n",
       "</style>\n",
       "<table border=\"1\" class=\"dataframe\">\n",
       "  <thead>\n",
       "    <tr style=\"text-align: right;\">\n",
       "      <th></th>\n",
       "      <th>date_block_num</th>\n",
       "      <th>shop_id</th>\n",
       "      <th>item_id</th>\n",
       "      <th>item_cnt_day</th>\n",
       "    </tr>\n",
       "  </thead>\n",
       "  <tbody>\n",
       "    <tr>\n",
       "      <th>0</th>\n",
       "      <td>0</td>\n",
       "      <td>0</td>\n",
       "      <td>32</td>\n",
       "      <td>6.0</td>\n",
       "    </tr>\n",
       "    <tr>\n",
       "      <th>1</th>\n",
       "      <td>0</td>\n",
       "      <td>0</td>\n",
       "      <td>33</td>\n",
       "      <td>3.0</td>\n",
       "    </tr>\n",
       "    <tr>\n",
       "      <th>2</th>\n",
       "      <td>0</td>\n",
       "      <td>0</td>\n",
       "      <td>35</td>\n",
       "      <td>1.0</td>\n",
       "    </tr>\n",
       "    <tr>\n",
       "      <th>3</th>\n",
       "      <td>0</td>\n",
       "      <td>0</td>\n",
       "      <td>43</td>\n",
       "      <td>1.0</td>\n",
       "    </tr>\n",
       "    <tr>\n",
       "      <th>4</th>\n",
       "      <td>0</td>\n",
       "      <td>0</td>\n",
       "      <td>51</td>\n",
       "      <td>2.0</td>\n",
       "    </tr>\n",
       "  </tbody>\n",
       "</table>\n",
       "</div>"
      ],
      "text/plain": [
       "   date_block_num  shop_id  item_id  item_cnt_day\n",
       "0               0        0       32           6.0\n",
       "1               0        0       33           3.0\n",
       "2               0        0       35           1.0\n",
       "3               0        0       43           1.0\n",
       "4               0        0       51           2.0"
      ]
     },
     "execution_count": 5,
     "metadata": {},
     "output_type": "execute_result"
    }
   ],
   "source": [
    "# train avec la catégorie du produit en plus\n",
    "new=train.join(items,on=\"item_id\",rsuffix=\"-\") \n",
    "#on enlève item_id qui est redondant\n",
    "new=new.drop(['item_id-'],axis=1) \n",
    "\n",
    "#On va regarder les ventes mensuelles par (produit, boutique, mois)\n",
    "sauvegarde=new[['date_block_num','shop_id','item_id','item_category_id','item_price']]\n",
    "new=new.drop(['item_category_id','item_price'],axis=1)\n",
    "brand=new.groupby(['date_block_num','shop_id','item_id'],as_index=False).sum() \n",
    "brand.head()"
   ]
  },
  {
   "cell_type": "code",
   "execution_count": 6,
   "metadata": {},
   "outputs": [
    {
     "data": {
      "text/html": [
       "<div>\n",
       "<style scoped>\n",
       "    .dataframe tbody tr th:only-of-type {\n",
       "        vertical-align: middle;\n",
       "    }\n",
       "\n",
       "    .dataframe tbody tr th {\n",
       "        vertical-align: top;\n",
       "    }\n",
       "\n",
       "    .dataframe thead th {\n",
       "        text-align: right;\n",
       "    }\n",
       "</style>\n",
       "<table border=\"1\" class=\"dataframe\">\n",
       "  <thead>\n",
       "    <tr style=\"text-align: right;\">\n",
       "      <th></th>\n",
       "      <th>date_block_num</th>\n",
       "      <th>shop_id</th>\n",
       "      <th>item_id</th>\n",
       "      <th>item_cnt_day</th>\n",
       "      <th>item_category_id</th>\n",
       "      <th>item_price</th>\n",
       "    </tr>\n",
       "  </thead>\n",
       "  <tbody>\n",
       "    <tr>\n",
       "      <th>0</th>\n",
       "      <td>0</td>\n",
       "      <td>0</td>\n",
       "      <td>32</td>\n",
       "      <td>6.0</td>\n",
       "      <td>40</td>\n",
       "      <td>221.0</td>\n",
       "    </tr>\n",
       "    <tr>\n",
       "      <th>1</th>\n",
       "      <td>0</td>\n",
       "      <td>0</td>\n",
       "      <td>33</td>\n",
       "      <td>3.0</td>\n",
       "      <td>37</td>\n",
       "      <td>347.0</td>\n",
       "    </tr>\n",
       "    <tr>\n",
       "      <th>2</th>\n",
       "      <td>0</td>\n",
       "      <td>0</td>\n",
       "      <td>35</td>\n",
       "      <td>1.0</td>\n",
       "      <td>40</td>\n",
       "      <td>247.0</td>\n",
       "    </tr>\n",
       "    <tr>\n",
       "      <th>3</th>\n",
       "      <td>0</td>\n",
       "      <td>0</td>\n",
       "      <td>43</td>\n",
       "      <td>1.0</td>\n",
       "      <td>40</td>\n",
       "      <td>221.0</td>\n",
       "    </tr>\n",
       "    <tr>\n",
       "      <th>4</th>\n",
       "      <td>0</td>\n",
       "      <td>0</td>\n",
       "      <td>51</td>\n",
       "      <td>2.0</td>\n",
       "      <td>57</td>\n",
       "      <td>130.0</td>\n",
       "    </tr>\n",
       "  </tbody>\n",
       "</table>\n",
       "</div>"
      ],
      "text/plain": [
       "   date_block_num  shop_id  item_id  item_cnt_day  item_category_id  \\\n",
       "0               0        0       32           6.0                40   \n",
       "1               0        0       33           3.0                37   \n",
       "2               0        0       35           1.0                40   \n",
       "3               0        0       43           1.0                40   \n",
       "4               0        0       51           2.0                57   \n",
       "\n",
       "   item_price  \n",
       "0       221.0  \n",
       "1       347.0  \n",
       "2       247.0  \n",
       "3       221.0  \n",
       "4       130.0  "
      ]
     },
     "execution_count": 6,
     "metadata": {},
     "output_type": "execute_result"
    }
   ],
   "source": [
    "sauvegarde = sauvegarde.drop_duplicates(['date_block_num','shop_id','item_id'])\n",
    "start = pd.merge(brand, sauvegarde,  how='left', left_on=['date_block_num','shop_id','item_id'], right_on = ['date_block_num','shop_id','item_id'])\n",
    "start.head()"
   ]
  },
  {
   "cell_type": "markdown",
   "metadata": {},
   "source": [
    "# Premier modèle : régression linéaire (sans temporalité)\n",
    "Régression linéaire globale : l (faut-il virer catégorie et shop d'ailleurs et l'omega de l'alpha dans la suite <em> ???)<br>\n",
    "Régression linéaire par shop : $\\delta_{i}$ <br>\n",
    "Régression linéaire par item_category :  $\\zeta_{j}$ <br>\n",
    "Prédiction : L <br>\n",
    "\n",
    "\n",
    "$ L = \\alpha^{*}  l + \\beta^{*}  \\sum_{i \\in Shops} \\delta_{i} + \\gamma^{*} \\sum_{j \\in Cats} \\zeta_{j} $ <br>\n",
    "Avec $ (\\alpha^{*},\\beta^{*}, \\gamma^{*}) = argmin \\sum_{x € X} (L_{(\\alpha,\\beta, \\gamma)}(x) - y)^2 $"
   ]
  },
  {
   "cell_type": "code",
   "execution_count": 7,
   "metadata": {},
   "outputs": [],
   "source": [
    "#On ne prend pas en compte le temps\n",
    "ONE=start.drop(['date_block_num'],axis=1)\n",
    "#target=rel['item_cnt_day']\n",
    "#factors=rel.drop('item_cnt_day',axis=1)"
   ]
  },
  {
   "cell_type": "code",
   "execution_count": 8,
   "metadata": {},
   "outputs": [],
   "source": [
    "def divide(db,col):#découpe le dataframe suivant les valeurs de la colonne en argument\n",
    "    diff=db[col].unique()\n",
    "    l_ddb=[]\n",
    "    for x in diff:\n",
    "        l_ddb.append(db[db[col]==x])\n",
    "    return(l_ddb)\n",
    "\n",
    "def shaping(db,L_col_cr): #centre-réduit les colonnes dans la LISTE L_col_cr\n",
    "    for c in L_col_cr:\n",
    "        db[c]=preprocessing.scale(db[c])"
   ]
  },
  {
   "cell_type": "code",
   "execution_count": 9,
   "metadata": {},
   "outputs": [
    {
     "data": {
      "text/html": [
       "<div>\n",
       "<style scoped>\n",
       "    .dataframe tbody tr th:only-of-type {\n",
       "        vertical-align: middle;\n",
       "    }\n",
       "\n",
       "    .dataframe tbody tr th {\n",
       "        vertical-align: top;\n",
       "    }\n",
       "\n",
       "    .dataframe thead th {\n",
       "        text-align: right;\n",
       "    }\n",
       "</style>\n",
       "<table border=\"1\" class=\"dataframe\">\n",
       "  <thead>\n",
       "    <tr style=\"text-align: right;\">\n",
       "      <th></th>\n",
       "      <th>shop</th>\n",
       "      <th>item</th>\n",
       "      <th>month_sales</th>\n",
       "      <th>category</th>\n",
       "      <th>price</th>\n",
       "    </tr>\n",
       "  </thead>\n",
       "  <tbody>\n",
       "    <tr>\n",
       "      <th>0</th>\n",
       "      <td>0</td>\n",
       "      <td>32</td>\n",
       "      <td>6.0</td>\n",
       "      <td>40</td>\n",
       "      <td>-0.367207</td>\n",
       "    </tr>\n",
       "    <tr>\n",
       "      <th>1</th>\n",
       "      <td>0</td>\n",
       "      <td>33</td>\n",
       "      <td>3.0</td>\n",
       "      <td>37</td>\n",
       "      <td>-0.286090</td>\n",
       "    </tr>\n",
       "    <tr>\n",
       "      <th>2</th>\n",
       "      <td>0</td>\n",
       "      <td>35</td>\n",
       "      <td>1.0</td>\n",
       "      <td>40</td>\n",
       "      <td>-0.350469</td>\n",
       "    </tr>\n",
       "    <tr>\n",
       "      <th>3</th>\n",
       "      <td>0</td>\n",
       "      <td>43</td>\n",
       "      <td>1.0</td>\n",
       "      <td>40</td>\n",
       "      <td>-0.367207</td>\n",
       "    </tr>\n",
       "    <tr>\n",
       "      <th>4</th>\n",
       "      <td>0</td>\n",
       "      <td>51</td>\n",
       "      <td>2.0</td>\n",
       "      <td>57</td>\n",
       "      <td>-0.425791</td>\n",
       "    </tr>\n",
       "  </tbody>\n",
       "</table>\n",
       "</div>"
      ],
      "text/plain": [
       "   shop  item  month_sales  category     price\n",
       "0     0    32          6.0        40 -0.367207\n",
       "1     0    33          3.0        37 -0.286090\n",
       "2     0    35          1.0        40 -0.350469\n",
       "3     0    43          1.0        40 -0.367207\n",
       "4     0    51          2.0        57 -0.425791"
      ]
     },
     "execution_count": 9,
     "metadata": {},
     "output_type": "execute_result"
    }
   ],
   "source": [
    "shaping(ONE,['item_price'])\n",
    "ONE.columns=['shop','item','month_sales','category','price']\n",
    "ONE.head()"
   ]
  },
  {
   "cell_type": "code",
   "execution_count": 115,
   "metadata": {},
   "outputs": [
    {
     "name": "stdout",
     "output_type": "stream",
     "text": [
      "49 15\n",
      "52 9\n",
      "54 3\n",
      "55 2\n",
      "56 6\n",
      "57 1\n",
      "58 3\n",
      "66 3\n",
      "72 1\n",
      "76 21\n",
      "77 8\n",
      "78 23\n",
      "80 2\n",
      "83 9\n",
      "------\n"
     ]
    }
   ],
   "source": [
    "L_db_shops=divide(ONE,'shop')\n",
    "L_db_cat=divide(ONE,'category')\n",
    "\n",
    "##catégories trop peu fournies\n",
    "for i in range(len(L_db_cat)):\n",
    "    if len(L_db_cat[i]) <= 50:\n",
    "        print(i,len(L_db_cat[i]))\n",
    "print(\"------\")\n",
    "##boutiques avec trop peu de ventes\n",
    "for i in range(len(L_db_shops)):\n",
    "    if len(L_db_shops[i]) <= 50:\n",
    "        print(i)"
   ]
  },
  {
   "cell_type": "code",
   "execution_count": 11,
   "metadata": {},
   "outputs": [],
   "source": [
    "from sklearn.linear_model import LinearRegression"
   ]
  },
  {
   "cell_type": "code",
   "execution_count": 12,
   "metadata": {},
   "outputs": [],
   "source": [
    "# RL par boutique\n",
    "shops_models=[0 for i in range (len(L_db_shops))]\n",
    "for l in L_db_shops:\n",
    "    X=l.drop(['month_sales'],axis=1) #shop est le même partout mais au moins le modèle est compatible avec les dimensions de base\n",
    "    Y=l['month_sales']\n",
    "    shops_models[int( l['shop'].iloc[0] )] = LinearRegression().fit(X, Y)"
   ]
  },
  {
   "cell_type": "code",
   "execution_count": 13,
   "metadata": {},
   "outputs": [],
   "source": [
    "# RL par catégorie\n",
    "cat_models=[0 for i in range (len(L_db_cat))]\n",
    "for l in L_db_cat:\n",
    "    X=l.drop(['month_sales'],axis=1) #cat est le même partout mais au moins le modèle est compatible avec les dimensions de base\n",
    "    Y=l['month_sales']\n",
    "    cat_models[int(l['category'].iloc[0])] = LinearRegression().fit(X, Y)"
   ]
  },
  {
   "cell_type": "markdown",
   "metadata": {},
   "source": [
    "#### Idée plus simple pour calculer les prédictions du modèle pondéré\n",
    "$ L_{(\\alpha, \\beta, \\gamma)}(x) =\\sum_{k} (\\alpha  l_{k} + \\beta \\delta^{i}_{k} + \\gamma \\zeta^{j}_{k}) x_{k} $"
   ]
  },
  {
   "cell_type": "code",
   "execution_count": 14,
   "metadata": {
    "scrolled": true
   },
   "outputs": [],
   "source": [
    "X=ONE.drop(['month_sales'],axis=1) #shop est le même partout mais au moins le modèle est compatible avec les dimensions de base\n",
    "Y=ONE['month_sales']\n",
    "global_model = LinearRegression().fit(X, Y)\n"
   ]
  },
  {
   "cell_type": "code",
   "execution_count": 18,
   "metadata": {
    "scrolled": true
   },
   "outputs": [
    {
     "name": "stdout",
     "output_type": "stream",
     "text": [
      "progression : 1 %\n",
      "progression : 2 %\n",
      "progression : 3 %\n",
      "progression : 4 %\n",
      "progression : 5 %\n",
      "progression : 6 %\n",
      "progression : 7 %\n",
      "progression : 8 %\n",
      "progression : 9 %\n",
      "progression : 10 %\n",
      "progression : 11 %\n",
      "progression : 12 %\n",
      "progression : 13 %\n",
      "progression : 14 %\n",
      "progression : 15 %\n",
      "progression : 16 %\n",
      "progression : 17 %\n",
      "progression : 18 %\n",
      "progression : 19 %\n",
      "progression : 20 %\n",
      "progression : 21 %\n",
      "progression : 22 %\n",
      "progression : 23 %\n",
      "progression : 24 %\n",
      "progression : 25 %\n",
      "progression : 26 %\n",
      "progression : 27 %\n",
      "progression : 28 %\n",
      "progression : 29 %\n",
      "progression : 30 %\n",
      "progression : 31 %\n",
      "progression : 32 %\n",
      "progression : 33 %\n",
      "progression : 34 %\n",
      "progression : 35 %\n",
      "progression : 36 %\n",
      "progression : 37 %\n",
      "progression : 38 %\n",
      "progression : 39 %\n",
      "progression : 40 %\n",
      "progression : 41 %\n",
      "progression : 42 %\n",
      "progression : 43 %\n",
      "progression : 44 %\n",
      "progression : 45 %\n",
      "progression : 46 %\n",
      "progression : 47 %\n",
      "progression : 48 %\n",
      "progression : 49 %\n",
      "progression : 50 %\n",
      "progression : 51 %\n",
      "progression : 52 %\n",
      "progression : 53 %\n",
      "progression : 54 %\n",
      "progression : 55 %\n",
      "progression : 56 %\n",
      "progression : 57 %\n",
      "progression : 58 %\n",
      "progression : 59 %\n",
      "progression : 60 %\n",
      "progression : 61 %\n",
      "progression : 62 %\n",
      "progression : 63 %\n",
      "progression : 64 %\n",
      "progression : 65 %\n",
      "progression : 66 %\n",
      "progression : 67 %\n",
      "progression : 68 %\n",
      "progression : 69 %\n",
      "progression : 70 %\n",
      "progression : 71 %\n",
      "progression : 72 %\n",
      "progression : 73 %\n",
      "progression : 74 %\n",
      "progression : 75 %\n",
      "progression : 76 %\n",
      "progression : 77 %\n",
      "progression : 78 %\n",
      "progression : 79 %\n",
      "progression : 80 %\n",
      "progression : 81 %\n",
      "progression : 82 %\n",
      "progression : 83 %\n",
      "progression : 84 %\n",
      "progression : 85 %\n",
      "progression : 86 %\n",
      "progression : 87 %\n",
      "progression : 88 %\n",
      "progression : 89 %\n",
      "progression : 90 %\n",
      "progression : 91 %\n",
      "progression : 92 %\n",
      "progression : 93 %\n",
      "progression : 94 %\n",
      "progression : 95 %\n",
      "progression : 96 %\n",
      "progression : 97 %\n",
      "progression : 98 %\n",
      "progression : 99 %\n"
     ]
    }
   ],
   "source": [
    "pred_by_shop=[]\n",
    "pred_by_cat=[]\n",
    "pred_glob = []\n",
    "i=1\n",
    "L=[global_model, shops_models, cat_models]\n",
    "for n in X.index:\n",
    "    x=np.array(X.iloc[n]).reshape(1,-1)\n",
    "    pred_glob.append(L[0].predict(x))\n",
    "    pred_by_shop.append(L[1][X['shop'].iloc[n]].predict(x))\n",
    "    pred_by_cat.append(L[2][X['category'].iloc[n]].predict(x))\n",
    "    if n>=i*len(X.index)/100:\n",
    "        sys.stdout.flush()\n",
    "        print(\"progression : {} %\".format(i))\n",
    "        i+=1"
   ]
  },
  {
   "cell_type": "code",
   "execution_count": 99,
   "metadata": {},
   "outputs": [
    {
     "data": {
      "text/html": [
       "<div>\n",
       "<style scoped>\n",
       "    .dataframe tbody tr th:only-of-type {\n",
       "        vertical-align: middle;\n",
       "    }\n",
       "\n",
       "    .dataframe tbody tr th {\n",
       "        vertical-align: top;\n",
       "    }\n",
       "\n",
       "    .dataframe thead th {\n",
       "        text-align: right;\n",
       "    }\n",
       "</style>\n",
       "<table border=\"1\" class=\"dataframe\">\n",
       "  <thead>\n",
       "    <tr style=\"text-align: right;\">\n",
       "      <th></th>\n",
       "      <th>global prediction</th>\n",
       "      <th>prediction by shop</th>\n",
       "      <th>prediction by category</th>\n",
       "      <th>target</th>\n",
       "    </tr>\n",
       "  </thead>\n",
       "  <tbody>\n",
       "    <tr>\n",
       "      <th>0</th>\n",
       "      <td>2.270487</td>\n",
       "      <td>2.846691</td>\n",
       "      <td>1.472259</td>\n",
       "      <td>6.0</td>\n",
       "    </tr>\n",
       "    <tr>\n",
       "      <th>1</th>\n",
       "      <td>2.300942</td>\n",
       "      <td>2.941759</td>\n",
       "      <td>1.510901</td>\n",
       "      <td>3.0</td>\n",
       "    </tr>\n",
       "    <tr>\n",
       "      <th>2</th>\n",
       "      <td>2.273559</td>\n",
       "      <td>2.848876</td>\n",
       "      <td>1.616814</td>\n",
       "      <td>1.0</td>\n",
       "    </tr>\n",
       "    <tr>\n",
       "      <th>3</th>\n",
       "      <td>2.270401</td>\n",
       "      <td>2.846312</td>\n",
       "      <td>1.472377</td>\n",
       "      <td>1.0</td>\n",
       "    </tr>\n",
       "    <tr>\n",
       "      <th>4</th>\n",
       "      <td>2.171883</td>\n",
       "      <td>2.361956</td>\n",
       "      <td>1.142932</td>\n",
       "      <td>2.0</td>\n",
       "    </tr>\n",
       "  </tbody>\n",
       "</table>\n",
       "</div>"
      ],
      "text/plain": [
       "   global prediction  prediction by shop  prediction by category  target\n",
       "0           2.270487            2.846691                1.472259     6.0\n",
       "1           2.300942            2.941759                1.510901     3.0\n",
       "2           2.273559            2.848876                1.616814     1.0\n",
       "3           2.270401            2.846312                1.472377     1.0\n",
       "4           2.171883            2.361956                1.142932     2.0"
      ]
     },
     "execution_count": 99,
     "metadata": {},
     "output_type": "execute_result"
    }
   ],
   "source": [
    "pred_by_shop=list(map(float,pred_by_shop))\n",
    "pred_by_cat=list(map(float,pred_by_cat))\n",
    "pred_glob=list(map(float,pred_glob))\n",
    "\n",
    "\n",
    "DIFF=pd.DataFrame({'global prediction' : pred_glob,\n",
    "                   'prediction by shop': pred_by_shop,\n",
    "              'prediction by category' : pred_by_cat,\n",
    "              'target' : Y})\n",
    "\n",
    "DIFF.head()"
   ]
  },
  {
   "cell_type": "code",
   "execution_count": 116,
   "metadata": {
    "scrolled": true
   },
   "outputs": [
    {
     "data": {
      "text/plain": [
       "array([-0.76962777,  0.77387548,  0.99575229])"
      ]
     },
     "execution_count": 116,
     "metadata": {},
     "output_type": "execute_result"
    }
   ],
   "source": [
    "Models=DIFF.drop('target',axis=1)\n",
    "target=DIFF['target']\n",
    "reg=LinearRegression().fit(Models,target)\n",
    "reg.coef_"
   ]
  },
  {
   "cell_type": "markdown",
   "metadata": {},
   "source": [
    "# Il faut regarder si avec ces coefs la régression est meilleure que la prédiction par catégorie (on dirait que les 2 premiers s'annulent)"
   ]
  },
  {
   "cell_type": "code",
   "execution_count": 117,
   "metadata": {},
   "outputs": [],
   "source": [
    "#Si on veut que la somme des coefs fasse 1\n",
    "import copy\n",
    "def calc(poids,db):\n",
    "    a,b=poids[0],poids[1]\n",
    "    U=copy.deepcopy(db)\n",
    "    U['global prediction']=U['global prediction'].apply(lambda x : a*x)\n",
    "    U['prediction by shop']=U['prediction by shop'].apply(lambda x : b*x)\n",
    "    U['prediction by category']=U['prediction by category'].apply(lambda x : (1-a-b)*x )\n",
    "    U['resultat']=(U['global prediction']+U['prediction by shop']+U['prediction by category']-U['target'])**2\n",
    "    return(U['resultat'].sum())"
   ]
  },
  {
   "cell_type": "code",
   "execution_count": 103,
   "metadata": {
    "scrolled": true
   },
   "outputs": [
    {
     "name": "stdout",
     "output_type": "stream",
     "text": [
      "progression : 10%\n",
      "89588776.22363989\n",
      "91072517.60700826\n",
      "93202156.68944976\n",
      "95977693.47096434\n",
      "99399127.95155223\n",
      "103466460.13121325\n",
      "108179690.00994739\n",
      "113538817.58775494\n",
      "119543842.86463547\n",
      "progression : 20%\n",
      "91178995.72706637\n",
      "93296725.45820642\n",
      "96060352.88841984\n",
      "99469878.01770635\n",
      "103525300.84606592\n",
      "108226621.3734989\n",
      "113573839.60000487\n",
      "119566955.5255841\n",
      "progression : 30%\n",
      "93406702.66759573\n",
      "96158420.74650772\n",
      "99556036.52449279\n",
      "103599550.00155115\n",
      "108288961.17768262\n",
      "113624270.05288745\n",
      "119605476.62716521\n",
      "progression : 40%\n",
      "96271897.04522802\n",
      "99657603.47191179\n",
      "103689207.59766878\n",
      "108366709.42249893\n",
      "113690108.94640233\n",
      "119659406.16937873\n",
      "progression : 50%\n",
      "99774578.85996316\n",
      "103794273.63441882\n",
      "108459866.10794756\n",
      "113771356.28054965\n",
      "119728744.15222475\n",
      "progression : 60%\n",
      "103914748.11180125\n",
      "108568431.23402874\n",
      "113868012.0553294\n",
      "119813490.57570326\n",
      "progression : 70%\n",
      "108692404.80074237\n",
      "113980076.27074163\n",
      "119913645.43981408\n",
      "progression : 80%\n",
      "114107548.9267863\n",
      "120029208.7445574\n",
      "progression : 90%\n",
      "120160180.4899331\n",
      "progression : 100%\n",
      "88432188.82079306 [0, 0, 1]\n"
     ]
    }
   ],
   "source": [
    "[x,y,z]=[0,0,1]\n",
    "Min=calc([x,y],DIFF)\n",
    "for i in range (1,11):\n",
    "    print(\"progression : {}%\".format(i*10))\n",
    "    for j in range (1, 11):\n",
    "        if i+j<=10:\n",
    "            k=10-i-j\n",
    "            image=calc([i/10,j/10],DIFF)\n",
    "            print(image)\n",
    "            if image<=Min:\n",
    "                Min=image\n",
    "                [x,y,z]=[i/10,j/10,k/10]\n",
    "print(Min,[x,y,z])"
   ]
  },
  {
   "cell_type": "markdown",
   "metadata": {},
   "source": [
    "## SUPER : la meilleure solution est alpha = 0, beta=0, gamma =1 (i.e. on ne se sert que de la prédiction par catégorie)"
   ]
  },
  {
   "cell_type": "markdown",
   "metadata": {},
   "source": [
    "# Deuxième modèle : réseau de neurones"
   ]
  },
  {
   "cell_type": "code",
   "execution_count": null,
   "metadata": {},
   "outputs": [],
   "source": []
  }
 ],
 "metadata": {
  "kernelspec": {
   "display_name": "Python 3",
   "language": "python",
   "name": "python3"
  },
  "language_info": {
   "codemirror_mode": {
    "name": "ipython",
    "version": 3
   },
   "file_extension": ".py",
   "mimetype": "text/x-python",
   "name": "python",
   "nbconvert_exporter": "python",
   "pygments_lexer": "ipython3",
   "version": "3.6.7"
  }
 },
 "nbformat": 4,
 "nbformat_minor": 2
}
