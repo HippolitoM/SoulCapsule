{
 "cells": [
  {
   "cell_type": "code",
   "execution_count": 228,
   "metadata": {},
   "outputs": [],
   "source": [
    "import pandas as pd\n",
    "import numpy as np\n"
   ]
  },
  {
   "cell_type": "code",
   "execution_count": 229,
   "metadata": {},
   "outputs": [
    {
     "data": {
      "text/html": [
       "<div>\n",
       "<style scoped>\n",
       "    .dataframe tbody tr th:only-of-type {\n",
       "        vertical-align: middle;\n",
       "    }\n",
       "\n",
       "    .dataframe tbody tr th {\n",
       "        vertical-align: top;\n",
       "    }\n",
       "\n",
       "    .dataframe thead th {\n",
       "        text-align: right;\n",
       "    }\n",
       "</style>\n",
       "<table border=\"1\" class=\"dataframe\">\n",
       "  <thead>\n",
       "    <tr style=\"text-align: right;\">\n",
       "      <th></th>\n",
       "      <th>prix</th>\n",
       "      <th>emplacement</th>\n",
       "      <th>calories</th>\n",
       "    </tr>\n",
       "  </thead>\n",
       "  <tbody>\n",
       "    <tr>\n",
       "      <th>espresso</th>\n",
       "      <td>1</td>\n",
       "      <td>haut</td>\n",
       "      <td>100</td>\n",
       "    </tr>\n",
       "    <tr>\n",
       "      <th>americano</th>\n",
       "      <td>2</td>\n",
       "      <td>milieu</td>\n",
       "      <td>350</td>\n",
       "    </tr>\n",
       "    <tr>\n",
       "      <th>double_espresso</th>\n",
       "      <td>1.7</td>\n",
       "      <td>bas</td>\n",
       "      <td>200</td>\n",
       "    </tr>\n",
       "  </tbody>\n",
       "</table>\n",
       "</div>"
      ],
      "text/plain": [
       "                prix emplacement calories\n",
       "espresso           1        haut      100\n",
       "americano          2      milieu      350\n",
       "double_espresso  1.7         bas      200"
      ]
     },
     "execution_count": 229,
     "metadata": {},
     "output_type": "execute_result"
    }
   ],
   "source": [
    "produits=[\"espresso\",\"americano\",\"double_espresso\"]\n",
    "carac_prod={} #prix, emplacement, calories\n",
    "carac_prod['espresso']=[1,\"haut\",100]\n",
    "carac_prod['americano']=[2,\"milieu\",350]\n",
    "carac_prod['double_espresso']=[1.7,\"bas\",200]\n",
    "\n",
    "prod=pd.DataFrame(carac_prod).T\n",
    "prod.columns=['prix','emplacement','calories']\n",
    "prod"
   ]
  },
  {
   "cell_type": "code",
   "execution_count": 230,
   "metadata": {},
   "outputs": [],
   "source": [
    "taille=1000\n",
    "\n",
    "def ventes(aff):\n",
    "    L1,L2,L3=[],[],[]\n",
    "    for j in range (len(aff)):\n",
    "        L=[]\n",
    "        for i in range (3):\n",
    "            L.append(np.random.randint(5,50))\n",
    "        nb=aff[j]\n",
    "        L1.append(nb*L[0]/sum(L))\n",
    "        L2.append(nb*L[1]/sum(L))\n",
    "        L3.append(nb*L[2]/sum(L))\n",
    "    return(L1,L2,L3)\n",
    "\n",
    "ventes_matin={}\n",
    "ventes_matin['affluence']=[int(np.random.exponential(5))+1 for i in range (taille)]\n",
    "ventes_matin['beau_temps']=[np.random.randint(0,2) for i in range (taille)]\n",
    "ventes_matin['nano_la_veille']=[np.random.randint(0,2) for i in range (taille)]\n",
    "ventes_matin['espresso'],ventes_matin['americano'],ventes_matin['double_espresso']=ventes(ventes_matin['affluence'])\n"
   ]
  },
  {
   "cell_type": "code",
   "execution_count": 231,
   "metadata": {},
   "outputs": [],
   "source": [
    "db=pd.DataFrame(ventes_matin)"
   ]
  },
  {
   "cell_type": "code",
   "execution_count": 232,
   "metadata": {
    "scrolled": true
   },
   "outputs": [
    {
     "data": {
      "text/plain": [
       "<matplotlib.collections.PathCollection at 0x1a21147eb8>"
      ]
     },
     "execution_count": 232,
     "metadata": {},
     "output_type": "execute_result"
    },
    {
     "data": {
      "image/png": "[encoded data removed]",
      "text/plain": [
       "<Figure size 432x288 with 1 Axes>"
      ]
     },
     "metadata": {
      "needs_background": "light"
     },
     "output_type": "display_data"
    }
   ],
   "source": [
    "import sklearn\n",
    "from sklearn.model_selection import train_test_split\n",
    "import matplotlib.pyplot as plt\n",
    "X=db[db.columns[:3]]\n",
    "X=sklearn.preprocessing.normalize(X)\n",
    "Y=db['espresso']\n",
    "X_train, X_test, Y_train, Y_test = train_test_split(X, Y, test_size = 0.45, random_state = 5)\n",
    "from sklearn.linear_model import LinearRegression\n",
    "lm = LinearRegression()\n",
    "lm.fit(X_train, Y_train)\n",
    "Y_pred = lm.predict(X_test)\n",
    "plt.scatter(Y_test, Y_pred)"
   ]
  }
 ],
 "metadata": {
  "kernelspec": {
   "display_name": "Python 3",
   "language": "python",
   "name": "python3"
  },
  "language_info": {
   "codemirror_mode": {
    "name": "ipython",
    "version": 3
   },
   "file_extension": ".py",
   "mimetype": "text/x-python",
   "name": "python",
   "nbconvert_exporter": "python",
   "pygments_lexer": "ipython3",
   "version": "3.7.0"
  }
 },
 "nbformat": 4,
 "nbformat_minor": 2
}
